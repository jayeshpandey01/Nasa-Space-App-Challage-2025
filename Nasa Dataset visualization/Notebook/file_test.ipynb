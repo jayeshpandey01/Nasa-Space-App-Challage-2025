{
 "cells": [
  {
   "cell_type": "code",
   "execution_count": 2,
   "id": "7750afd5",
   "metadata": {},
   "outputs": [],
   "source": [
    "import numpy as np\n",
    "import pandas as pd\n",
    "import os\n",
    "\n",
    "# txt file\n",
    "epam = 'ace_daily/unknown/ace_epam_5m.txt'\n",
    "mag = 'ace_daily/unknown/ace_mag_1m.txt'\n",
    "sis = 'ace_daily/unknown/ace_sis_5m.txt'\n",
    "swepam = 'ace_daily/unknown/ace_swepam_1m.txt'"
   ]
  },
  {
   "cell_type": "code",
   "execution_count": 10,
   "id": "1bd3ac04",
   "metadata": {},
   "outputs": [],
   "source": [
    "import os\n",
    "import pandas as pd\n",
    "from collections import defaultdict\n",
    "from multiprocessing import Pool, cpu_count\n",
    "from functools import partial"
   ]
  },
  {
   "cell_type": "code",
   "execution_count": null,
   "id": "7af3e80c",
   "metadata": {},
   "outputs": [
    {
     "name": "stdout",
     "output_type": "stream",
     "text": [
      "Processing file: ace_daily/2025/20250101_ace_epam_5m.txt\n",
      "Expected suffix: ace_epam_5m.txt\n",
      "Error reading ace_daily/2025/20250101_ace_epam_5m.txt: Error tokenizing data. C error: Expected 16 fields in line 17, saw 17\n",
      "\n",
      "Processing file: ace_daily/2025/20250101_ace_mag_1m.txt\n",
      "Expected suffix: ace_mag_1m.txt\n",
      "Error reading ace_daily/2025/20250101_ace_mag_1m.txt: Error tokenizing data. C error: Expected 13 fields in line 19, saw 14\n",
      "\n",
      "Processing file: ace_daily/2025/20250101_ace_sis_5m.txt\n",
      "Expected suffix: ace_sis_5m.txt\n",
      "Error reading ace_daily/2025/20250101_ace_sis_5m.txt: Error tokenizing data. C error: Expected 10 fields in line 14, saw 12\n",
      "\n",
      "Processing file: ace_daily/2025/20250101_ace_swepam_1m.txt\n",
      "Expected suffix: ace_swepam_1m.txt\n",
      "Error reading ace_daily/2025/20250101_ace_swepam_1m.txt: invalid literal for int() with base 10: '1-minute'\n"
     ]
    },
    {
     "name": "stderr",
     "output_type": "stream",
     "text": [
      "C:\\Users\\harsh\\AppData\\Local\\Temp\\ipykernel_11452\\3015745286.py:48: FutureWarning: The 'delim_whitespace' keyword in pd.read_csv is deprecated and will be removed in a future version. Use ``sep='\\s+'`` instead\n",
      "  df = pd.read_csv(\n",
      "C:\\Users\\harsh\\AppData\\Local\\Temp\\ipykernel_11452\\3015745286.py:48: FutureWarning: The 'delim_whitespace' keyword in pd.read_csv is deprecated and will be removed in a future version. Use ``sep='\\s+'`` instead\n",
      "  df = pd.read_csv(\n",
      "C:\\Users\\harsh\\AppData\\Local\\Temp\\ipykernel_11452\\3015745286.py:48: FutureWarning: The 'delim_whitespace' keyword in pd.read_csv is deprecated and will be removed in a future version. Use ``sep='\\s+'`` instead\n",
      "  df = pd.read_csv(\n",
      "C:\\Users\\harsh\\AppData\\Local\\Temp\\ipykernel_11452\\3015745286.py:48: FutureWarning: The 'delim_whitespace' keyword in pd.read_csv is deprecated and will be removed in a future version. Use ``sep='\\s+'`` instead\n",
      "  df = pd.read_csv(\n"
     ]
    }
   ],
   "source": [
    "x"
   ]
  },
  {
   "cell_type": "code",
   "execution_count": 7,
   "id": "7f6fa748",
   "metadata": {},
   "outputs": [
    {
     "data": {
      "text/plain": [
       "Index(['2025', '06', '24', '1345', '60850', '49500', '0', '1.58e+03',\n",
       "       '1.16e+01', '0.1', '2.80e+03', '1.01e+01', '1.42e+00', '3.92e-01',\n",
       "       '2.21e-01', '-1.00'],\n",
       "      dtype='object')"
      ]
     },
     "execution_count": 7,
     "metadata": {},
     "output_type": "execute_result"
    }
   ],
   "source": [
    "epam.columns"
   ]
  }
 ],
 "metadata": {
  "kernelspec": {
   "display_name": "Python 3",
   "language": "python",
   "name": "python3"
  },
  "language_info": {
   "codemirror_mode": {
    "name": "ipython",
    "version": 3
   },
   "file_extension": ".py",
   "mimetype": "text/x-python",
   "name": "python",
   "nbconvert_exporter": "python",
   "pygments_lexer": "ipython3",
   "version": "3.11.9"
  }
 },
 "nbformat": 4,
 "nbformat_minor": 5
}
