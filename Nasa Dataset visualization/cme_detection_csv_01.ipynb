{
 "cells": [
  {
   "cell_type": "markdown",
   "id": "92ae0860",
   "metadata": {},
   "source": [
    "## CME DETECTION using csvv files"
   ]
  },
  {
   "cell_type": "code",
   "execution_count": 1,
   "id": "a9f7ebe3",
   "metadata": {},
   "outputs": [],
   "source": [
    "import pandas as pd\n",
    "\n",
    "def detect_cme_events(df, \n",
    "                      b_threshold=10,         # magnetic field magnitude threshold (nT)\n",
    "                      density_threshold=10,   # proton density threshold (cm^-3)\n",
    "                      speed_threshold=500,    # solar wind speed threshold (km/s)\n",
    "                      window='30T'):          # smoothing window\n",
    "\n",
    "    \"\"\"\n",
    "    Detects potential CME events based on sudden changes in magnetic field, \n",
    "    proton density, and solar wind speed.\n",
    "    \n",
    "    Parameters:\n",
    "        df: Pandas DataFrame with datetime index and necessary columns\n",
    "        b_threshold: Threshold for magnetic field strength in nT\n",
    "        density_threshold: Threshold for proton density\n",
    "        speed_threshold: Threshold for solar wind speed\n",
    "        window: Resampling/smoothing window (e.g., '30T' for 30 minutes)\n",
    "        \n",
    "    Returns:\n",
    "        df_events: DataFrame with rows where a CME is detected\n",
    "    \"\"\"\n",
    "\n",
    "    # Step 1: Smooth (optional)\n",
    "    df_smoothed = df.resample(window).mean().interpolate()\n",
    "\n",
    "    # Step 2: Thresholds\n",
    "    b_detect = df_smoothed[\"MAG_B\"].fillna(0) > b_threshold\n",
    "    density_detect = df_smoothed[\"SW_Density\"].fillna(0) > density_threshold\n",
    "    speed_detect = df_smoothed[\"SW_Speed\"].fillna(0) > speed_threshold\n",
    "\n",
    "    # Step 3: Combined logic (all 3 must trigger)\n",
    "    cme_mask = b_detect & density_detect & speed_detect\n",
    "\n",
    "    # Step 4: Return events\n",
    "    df_events = df_smoothed[cme_mask]\n",
    "\n",
    "    return df_events\n"
   ]
  },
  {
   "cell_type": "markdown",
   "id": "0517759b",
   "metadata": {},
   "source": [
    "\n",
    "---\n",
    "\n",
    "## ✅ 1. **Threshold Calculation (Formulaic Approach)**\n",
    "\n",
    "In most space weather and heliophysics literature, **CME detection thresholds** are based on **statistical anomalies** or **empirical observations**.\n",
    "\n",
    "A **commonly used formula** to define the threshold is:\n",
    "\n",
    "$$\n",
    "\\text{Threshold} = \\mu + N \\cdot \\sigma\n",
    "$$\n",
    "\n",
    "Where:\n",
    "\n",
    "* $\\mu$ = mean of the signal\n",
    "* $\\sigma$ = standard deviation\n",
    "* $N$ = multiplier (usually between **2** to **3** depending on sensitivity)\n",
    "\n",
    "This applies to parameters like:\n",
    "\n",
    "* Magnetic field magnitude $B_T$\n",
    "* Solar wind density\n",
    "* Proton speed\n",
    "* Temperature\n",
    "* Plasma beta\n",
    "\n",
    "This approach detects **outliers**, which often correspond to CME events due to **sudden spikes**.\n",
    "\n",
    "---\n",
    "\n",
    "## ✅ 2. **CME Detection Criteria (From Research)**\n",
    "\n",
    "Several published criteria exist. Here's a simplified version used by NASA and academic research papers:\n",
    "\n",
    "### 🌪 CME Identification Based on ACE Data:\n",
    "\n",
    "| Parameter            | Condition / Threshold                                        |\n",
    "| -------------------- | ------------------------------------------------------------ |\n",
    "| **Magnetic field**   | $B_T > 10 \\, \\text{nT}$                                      |\n",
    "| **Density drop**     | $\\text{Density} < 5 \\, \\text{cm}^{-3}$                       |\n",
    "| **Speed jump**       | $V_p > 500 \\, \\text{km/s}$                                   |\n",
    "| **Temperature drop** | $T_p < 10^5 \\, \\text{K}$                                     |\n",
    "| **Plasma beta**      | $\\beta < 0.5$ (low plasma beta indicates magnetic dominance) |\n",
    "\n",
    "> These conditions **don’t all have to be met**—commonly, a CME is flagged if **2 or more** criteria are met **over a short duration** (like 1–3 hours).\n",
    "\n",
    "---\n"
   ]
  },
  {
   "cell_type": "code",
   "execution_count": 2,
   "id": "05261219",
   "metadata": {},
   "outputs": [],
   "source": [
    "import pandas as pd\n",
    "import numpy as np\n",
    "class CMEDetection:\n",
    "    def __init__(self):\n",
    "        pass\n",
    "\n",
    "    def load_file(self, file_path):\n",
    "        return pd.read_csv(file_path)\n",
    "        \n"
   ]
  },
  {
   "cell_type": "code",
   "execution_count": 3,
   "id": "450be23e",
   "metadata": {},
   "outputs": [],
   "source": [
    "class_detect = CMEDetection()"
   ]
  },
  {
   "cell_type": "code",
   "execution_count": 4,
   "id": "f155ad06",
   "metadata": {},
   "outputs": [
    {
     "name": "stderr",
     "output_type": "stream",
     "text": [
      "C:\\Users\\harsh\\AppData\\Local\\Temp\\ipykernel_1840\\1145778639.py:8: DtypeWarning: Columns (16) have mixed types. Specify dtype option on import or set low_memory=False.\n",
      "  return pd.read_csv(file_path)\n"
     ]
    }
   ],
   "source": [
    "epam_data = class_detect.load_file('csv_file/ace_epam_data.csv')"
   ]
  },
  {
   "cell_type": "code",
   "execution_count": 5,
   "id": "c4b24717",
   "metadata": {},
   "outputs": [
    {
     "name": "stderr",
     "output_type": "stream",
     "text": [
      "C:\\Users\\harsh\\AppData\\Local\\Temp\\ipykernel_1840\\1145778639.py:8: DtypeWarning: Columns (13) have mixed types. Specify dtype option on import or set low_memory=False.\n",
      "  return pd.read_csv(file_path)\n"
     ]
    }
   ],
   "source": [
    "mag_data = class_detect.load_file('csv_file/ace_mag_data.csv')"
   ]
  },
  {
   "cell_type": "code",
   "execution_count": 6,
   "id": "efcbba2c",
   "metadata": {},
   "outputs": [
    {
     "name": "stderr",
     "output_type": "stream",
     "text": [
      "C:\\Users\\harsh\\AppData\\Local\\Temp\\ipykernel_1840\\1145778639.py:8: DtypeWarning: Columns (10) have mixed types. Specify dtype option on import or set low_memory=False.\n",
      "  return pd.read_csv(file_path)\n"
     ]
    }
   ],
   "source": [
    "swepam_data = class_detect.load_file('csv_file/ace_swepam_data.csv')"
   ]
  },
  {
   "cell_type": "code",
   "execution_count": 7,
   "id": "ec6020bb",
   "metadata": {},
   "outputs": [],
   "source": [
    "df_epam = epam_data.head(1000)\n",
    "df_mag = mag_data.head(1000)\n",
    "df_swics = swepam_data.head(1000)\n",
    "\n"
   ]
  },
  {
   "cell_type": "code",
   "execution_count": 8,
   "id": "11c93a27",
   "metadata": {},
   "outputs": [],
   "source": [
    "def add_timestamp_column(df):\n",
    "    # Convert HHMM (e.g., 1230 → \"12:30\") safely\n",
    "    df = df.copy()  # avoid SettingWithCopyWarning\n",
    "\n",
    "    # Ensure 4-digit zero-padded strings for HHMM\n",
    "    df[\"HHMM\"] = df[\"HHMM\"].astype(str).str.zfill(4)\n",
    "\n",
    "    # Construct timestamp string like \"2023-07-04 12:30\"\n",
    "    datetime_str = (\n",
    "        df[\"YR\"].astype(str) + \"-\" +\n",
    "        df[\"MO\"].astype(str).str.zfill(2) + \"-\" +\n",
    "        df[\"DA\"].astype(str).str.zfill(2) + \" \" +\n",
    "        df[\"HHMM\"].str[:2] + \":\" + df[\"HHMM\"].str[2:]\n",
    "    )\n",
    "\n",
    "    # Parse with known format\n",
    "    df[\"timestamp\"] = pd.to_datetime(datetime_str, format=\"%Y-%m-%d %H:%M\", errors=\"coerce\")\n",
    "    df.set_index(\"timestamp\", inplace=True)\n",
    "    \n",
    "    return df\n"
   ]
  },
  {
   "cell_type": "code",
   "execution_count": 9,
   "id": "68413ea9",
   "metadata": {},
   "outputs": [],
   "source": [
    "df_epam = add_timestamp_column(df_epam)\n",
    "df_mag = add_timestamp_column(df_mag)\n",
    "df_swics = add_timestamp_column(df_swics)\n"
   ]
  },
  {
   "cell_type": "code",
   "execution_count": 10,
   "id": "62361a01",
   "metadata": {},
   "outputs": [
    {
     "data": {
      "text/plain": [
       "(               YR   MO    DA    HHMM  Julian_Day  Seconds_of_Day  Electron_S  \\\n",
       " timestamp                                                                      \n",
       " NaT        2001.0  8.0   7.0    00.0     52128.0             0.0         0.0   \n",
       " NaT        2001.0  8.0   7.0    05.0     52128.0           300.0         0.0   \n",
       " NaT        2001.0  8.0   7.0    10.0     52128.0           600.0         0.0   \n",
       " NaT        2001.0  8.0   7.0    15.0     52128.0           900.0         0.0   \n",
       " NaT        2001.0  8.0   7.0    20.0     52128.0          1200.0         0.0   \n",
       " ...           ...  ...   ...     ...         ...             ...         ...   \n",
       " NaT        2001.0  8.0  10.0  1055.0     52131.0         39300.0         0.0   \n",
       " NaT        2001.0  8.0  10.0  1100.0     52131.0         39600.0         0.0   \n",
       " NaT        2001.0  8.0  10.0  1105.0     52131.0         39900.0         0.0   \n",
       " NaT        2001.0  8.0  10.0  1110.0     52131.0         40200.0         0.0   \n",
       " NaT        2001.0  8.0  10.0  1115.0     52131.0         40500.0         0.0   \n",
       " \n",
       "            Electron_38-53  Electron_175-315  Proton_S  Proton_47-65  \\\n",
       " timestamp                                                             \n",
       " NaT                 722.0              16.0       0.0        1280.0   \n",
       " NaT                 732.0              19.6       0.0        1220.0   \n",
       " NaT                 694.0              11.6       0.0        1130.0   \n",
       " NaT                 704.0              14.7       0.0        1210.0   \n",
       " NaT                 797.0              13.4       0.0        1560.0   \n",
       " ...                   ...               ...       ...           ...   \n",
       " NaT               22500.0              89.0       0.0       11300.0   \n",
       " NaT               22200.0              97.2       0.0       10500.0   \n",
       " NaT               20800.0              86.8       0.0       12100.0   \n",
       " NaT               19400.0              90.9       0.0       12100.0   \n",
       " NaT               16900.0              82.7       0.0       12700.0   \n",
       " \n",
       "            Proton_112-187  Proton_310-580  Proton_761-1220  Proton_1060-1910  \\\n",
       " timestamp                                                                      \n",
       " NaT                 129.0            9.20            0.954             0.219   \n",
       " NaT                 122.0            7.41            0.786             0.234   \n",
       " NaT                 123.0            6.65            0.633             0.193   \n",
       " NaT                 120.0            7.18            0.946             0.252   \n",
       " NaT                 131.0            7.67            0.889             0.321   \n",
       " ...                   ...             ...              ...               ...   \n",
       " NaT               10700.0         5210.00         2430.000          1060.000   \n",
       " NaT               10500.0         5200.00         2410.000          1050.000   \n",
       " NaT               10700.0         5250.00         2410.000          1060.000   \n",
       " NaT               10900.0         5290.00         2390.000          1060.000   \n",
       " NaT               10900.0         5000.00         2170.000           990.000   \n",
       " \n",
       "            Anisotropy_Ratio  year                      file  \n",
       " timestamp                                                    \n",
       " NaT                    0.47  2001  20010807_ace_epam_5m.txt  \n",
       " NaT                   -1.00  2001  20010807_ace_epam_5m.txt  \n",
       " NaT                    0.90  2001  20010807_ace_epam_5m.txt  \n",
       " NaT                    0.68  2001  20010807_ace_epam_5m.txt  \n",
       " NaT                    1.38  2001  20010807_ace_epam_5m.txt  \n",
       " ...                     ...   ...                       ...  \n",
       " NaT                    0.08  2001  20010810_ace_epam_5m.txt  \n",
       " NaT                    0.09  2001  20010810_ace_epam_5m.txt  \n",
       " NaT                    0.10  2001  20010810_ace_epam_5m.txt  \n",
       " NaT                    0.12  2001  20010810_ace_epam_5m.txt  \n",
       " NaT                    0.21  2001  20010810_ace_epam_5m.txt  \n",
       " \n",
       " [1000 rows x 18 columns],\n",
       "                YR   MO   DA    HHMM  Julian_Day  Seconds_of_Day    S   Bx  \\\n",
       " timestamp                                                                   \n",
       " NaT        2001.0  8.0  7.0    00.0     52128.0             0.0  0.0 -6.2   \n",
       " NaT        2001.0  8.0  7.0    01.0     52128.0            60.0  0.0 -6.3   \n",
       " NaT        2001.0  8.0  7.0    02.0     52128.0           120.0  0.0 -6.2   \n",
       " NaT        2001.0  8.0  7.0    03.0     52128.0           180.0  0.0 -6.1   \n",
       " NaT        2001.0  8.0  7.0    04.0     52128.0           240.0  0.0 -6.1   \n",
       " ...           ...  ...  ...     ...         ...             ...  ...  ...   \n",
       " NaT        2001.0  8.0  7.0  1635.0     52128.0          9700.0  2.0  1.9   \n",
       " NaT        2001.0  8.0  7.0  1636.0     52128.0          9760.0  2.0  2.1   \n",
       " NaT        2001.0  8.0  7.0  1637.0     52128.0          9820.0  2.0  2.1   \n",
       " NaT        2001.0  8.0  7.0  1638.0     52128.0          9880.0  2.0  2.0   \n",
       " NaT        2001.0  8.0  7.0  1639.0     52128.0          9940.0  2.0  2.0   \n",
       " \n",
       "             By   Bz   Bt  Latitude  Longitude  year                     file  \n",
       " timestamp                                                                     \n",
       " NaT       -3.1 -0.1  6.9      -0.6      206.5  2001  20010807_ace_mag_1m.txt  \n",
       " NaT       -3.3 -0.3  7.1      -2.7      207.8  2001  20010807_ace_mag_1m.txt  \n",
       " NaT       -3.1 -0.6  6.9      -4.7      206.5  2001  20010807_ace_mag_1m.txt  \n",
       " NaT       -3.4 -0.6  7.0      -4.8      209.2  2001  20010807_ace_mag_1m.txt  \n",
       " NaT       -3.5 -0.4  7.0      -3.1      210.0  2001  20010807_ace_mag_1m.txt  \n",
       " ...        ...  ...  ...       ...        ...   ...                      ...  \n",
       " NaT        3.0 -2.3  4.2     -33.1       57.6  2001  20010807_ace_mag_1m.txt  \n",
       " NaT        2.8 -2.4  4.2     -35.1       53.4  2001  20010807_ace_mag_1m.txt  \n",
       " NaT        2.6 -2.5  4.2     -37.0       51.1  2001  20010807_ace_mag_1m.txt  \n",
       " NaT        2.6 -2.5  4.1     -36.8       52.8  2001  20010807_ace_mag_1m.txt  \n",
       " NaT        2.7 -2.5  4.2     -36.6       54.1  2001  20010807_ace_mag_1m.txt  \n",
       " \n",
       " [1000 rows x 15 columns],\n",
       "                        YR  MO  DA  HHMM  Julian_Day  Seconds_of_Day  S  \\\n",
       " timestamp                                                                \n",
       " 2001-08-07 00:00:00  2001   8   7  0000       52128               0  0   \n",
       " 2001-08-07 00:01:00  2001   8   7  0001       52128              60  0   \n",
       " 2001-08-07 00:02:00  2001   8   7  0002       52128             120  0   \n",
       " 2001-08-07 00:03:00  2001   8   7  0003       52128             180  0   \n",
       " 2001-08-07 00:04:00  2001   8   7  0004       52128             240  0   \n",
       " ...                   ...  ..  ..   ...         ...             ... ..   \n",
       " 2001-08-07 16:35:00  2001   8   7  1635       52128            9700  0   \n",
       " 2001-08-07 16:36:00  2001   8   7  1636       52128            9760  0   \n",
       " 2001-08-07 16:37:00  2001   8   7  1637       52128            9820  0   \n",
       " 2001-08-07 16:38:00  2001   8   7  1638       52128            9880  0   \n",
       " 2001-08-07 16:39:00  2001   8   7  1639       52128            9940  0   \n",
       " \n",
       "                      Proton_Density  Bulk_Speed  Ion_Temperature  year  \\\n",
       " timestamp                                                                \n",
       " 2001-08-07 00:00:00             3.2       445.5          74600.0  2001   \n",
       " 2001-08-07 00:01:00             3.2       449.1         120000.0  2001   \n",
       " 2001-08-07 00:02:00             3.2       443.1          68800.0  2001   \n",
       " 2001-08-07 00:03:00             3.2       443.5          64300.0  2001   \n",
       " 2001-08-07 00:04:00             3.2       446.1          71200.0  2001   \n",
       " ...                             ...         ...              ...   ...   \n",
       " 2001-08-07 16:35:00             2.1       458.5          64800.0  2001   \n",
       " 2001-08-07 16:36:00             2.3       458.6          69000.0  2001   \n",
       " 2001-08-07 16:37:00             2.2       461.2          68900.0  2001   \n",
       " 2001-08-07 16:38:00             2.2       461.2          68900.0  2001   \n",
       " 2001-08-07 16:39:00             2.3       458.2          61800.0  2001   \n",
       " \n",
       "                                            file  \n",
       " timestamp                                        \n",
       " 2001-08-07 00:00:00  20010807_ace_swepam_1m.txt  \n",
       " 2001-08-07 00:01:00  20010807_ace_swepam_1m.txt  \n",
       " 2001-08-07 00:02:00  20010807_ace_swepam_1m.txt  \n",
       " 2001-08-07 00:03:00  20010807_ace_swepam_1m.txt  \n",
       " 2001-08-07 00:04:00  20010807_ace_swepam_1m.txt  \n",
       " ...                                         ...  \n",
       " 2001-08-07 16:35:00  20010807_ace_swepam_1m.txt  \n",
       " 2001-08-07 16:36:00  20010807_ace_swepam_1m.txt  \n",
       " 2001-08-07 16:37:00  20010807_ace_swepam_1m.txt  \n",
       " 2001-08-07 16:38:00  20010807_ace_swepam_1m.txt  \n",
       " 2001-08-07 16:39:00  20010807_ace_swepam_1m.txt  \n",
       " \n",
       " [1000 rows x 12 columns])"
      ]
     },
     "execution_count": 10,
     "metadata": {},
     "output_type": "execute_result"
    }
   ],
   "source": [
    "df_epam, df_mag, df_swics"
   ]
  },
  {
   "cell_type": "code",
   "execution_count": 11,
   "id": "7feef658",
   "metadata": {},
   "outputs": [],
   "source": [
    "def compute_thresholds(df, columns, k=2):\n",
    "    thresholds = {}\n",
    "    for col in columns:\n",
    "        if df[col].dropna().empty:\n",
    "            thresholds[col] = None\n",
    "        else:\n",
    "            mean = df[col].mean()\n",
    "            std = df[col].std()\n",
    "            thresholds[col] = mean + k * std\n",
    "    return thresholds\n"
   ]
  },
  {
   "cell_type": "code",
   "execution_count": 12,
   "id": "09802076",
   "metadata": {},
   "outputs": [
    {
     "data": {
      "text/plain": [
       "Index(['YR', 'MO', 'DA', 'HHMM', 'Julian_Day', 'Seconds_of_Day', 'Electron_S',\n",
       "       'Electron_38-53', 'Electron_175-315', 'Proton_S', 'Proton_47-65',\n",
       "       'Proton_112-187', 'Proton_310-580', 'Proton_761-1220',\n",
       "       'Proton_1060-1910', 'Anisotropy_Ratio', 'year', 'file'],\n",
       "      dtype='object')"
      ]
     },
     "execution_count": 12,
     "metadata": {},
     "output_type": "execute_result"
    }
   ],
   "source": [
    "df_epam.columns"
   ]
  },
  {
   "cell_type": "code",
   "execution_count": 13,
   "id": "128edfef",
   "metadata": {},
   "outputs": [
    {
     "data": {
      "text/plain": [
       "Index(['YR', 'MO', 'DA', 'HHMM', 'Julian_Day', 'Seconds_of_Day', 'S',\n",
       "       'Proton_Density', 'Bulk_Speed', 'Ion_Temperature', 'year', 'file'],\n",
       "      dtype='object')"
      ]
     },
     "execution_count": 13,
     "metadata": {},
     "output_type": "execute_result"
    }
   ],
   "source": [
    "df_swics.columns"
   ]
  },
  {
   "cell_type": "code",
   "execution_count": 14,
   "id": "8287c59e",
   "metadata": {},
   "outputs": [
    {
     "data": {
      "text/plain": [
       "Index(['YR', 'MO', 'DA', 'HHMM', 'Julian_Day', 'Seconds_of_Day', 'S', 'Bx',\n",
       "       'By', 'Bz', 'Bt', 'Latitude', 'Longitude', 'year', 'file'],\n",
       "      dtype='object')"
      ]
     },
     "execution_count": 14,
     "metadata": {},
     "output_type": "execute_result"
    }
   ],
   "source": [
    "df_mag.columns"
   ]
  },
  {
   "cell_type": "code",
   "execution_count": 15,
   "id": "21e75e0a",
   "metadata": {},
   "outputs": [
    {
     "name": "stderr",
     "output_type": "stream",
     "text": [
      "C:\\Users\\harsh\\AppData\\Local\\Temp\\ipykernel_1840\\1145778639.py:8: DtypeWarning: Columns (10) have mixed types. Specify dtype option on import or set low_memory=False.\n",
      "  return pd.read_csv(file_path)\n"
     ]
    }
   ],
   "source": [
    "sis_data = class_detect.load_file('csv_file/ace_sis_data.csv')"
   ]
  },
  {
   "cell_type": "code",
   "execution_count": 16,
   "id": "214e5401",
   "metadata": {},
   "outputs": [],
   "source": [
    "df_sis = sis_data.head(1000)"
   ]
  },
  {
   "cell_type": "code",
   "execution_count": 17,
   "id": "4db02705",
   "metadata": {},
   "outputs": [
    {
     "data": {
      "text/plain": [
       "Index(['YR', 'MO', 'DA', 'HHMM', 'Julian_Day', 'Seconds_of_Day', 'S_10MeV',\n",
       "       'Proton_>10MeV', 'S_30MeV', 'Proton_>30MeV', 'year', 'file'],\n",
       "      dtype='object')"
      ]
     },
     "execution_count": 17,
     "metadata": {},
     "output_type": "execute_result"
    }
   ],
   "source": [
    "df_sis.columns"
   ]
  },
  {
   "cell_type": "code",
   "execution_count": 18,
   "id": "731f6f90",
   "metadata": {},
   "outputs": [],
   "source": [
    "thresholds_epam = compute_thresholds(df_sis, [\"Proton_>10MeV\", \"Proton_>30MeV\"], k=3)\n",
    "thresholds_mag = compute_thresholds(df_mag, [\"Bz\", \"Bt\"], k=2)\n",
    "thresholds_swics = compute_thresholds(df_swics, [\"Proton_Density\", \"Bulk_Speed\"], k=2)\n"
   ]
  },
  {
   "cell_type": "code",
   "execution_count": 19,
   "id": "bdc06667",
   "metadata": {},
   "outputs": [
    {
     "name": "stderr",
     "output_type": "stream",
     "text": [
      "C:\\Users\\harsh\\AppData\\Local\\Temp\\ipykernel_1840\\153231050.py:1: SettingWithCopyWarning: \n",
      "A value is trying to be set on a copy of a slice from a DataFrame.\n",
      "Try using .loc[row_indexer,col_indexer] = value instead\n",
      "\n",
      "See the caveats in the documentation: https://pandas.pydata.org/pandas-docs/stable/user_guide/indexing.html#returning-a-view-versus-a-copy\n",
      "  df_sis[\"sep_event\"] = (\n"
     ]
    }
   ],
   "source": [
    "df_sis[\"sep_event\"] = (\n",
    "    (df_sis[\"Proton_>10MeV\"] > thresholds_epam[\"Proton_>10MeV\"]) |\n",
    "    (df_sis[\"Proton_>30MeV\"] > thresholds_epam[\"Proton_>30MeV\"])\n",
    ")\n",
    "\n",
    "df_mag[\"mag_event\"] = df_mag[\"Bz\"] < (df_mag[\"Bz\"].mean() - 2 * df_mag[\"Bz\"].std())\n",
    "\n",
    "df_swics[\"shock_event\"] = (\n",
    "    (df_swics[\"Proton_Density\"] > thresholds_swics[\"Proton_Density\"]) |\n",
    "    (df_swics[\"Bulk_Speed\"] > thresholds_swics[\"Bulk_Speed\"])\n",
    ")\n"
   ]
  },
  {
   "cell_type": "code",
   "execution_count": 20,
   "id": "fd009e2d",
   "metadata": {},
   "outputs": [
    {
     "data": {
      "text/plain": [
       "sep_event\n",
       "False    996\n",
       "True       4\n",
       "Name: count, dtype: int64"
      ]
     },
     "execution_count": 20,
     "metadata": {},
     "output_type": "execute_result"
    }
   ],
   "source": [
    "df_sis['sep_event'].value_counts()"
   ]
  },
  {
   "cell_type": "code",
   "execution_count": 21,
   "id": "ad5166b5",
   "metadata": {},
   "outputs": [],
   "source": [
    "# Ensure consistent datetime indexes\n",
    "df_sis.index = pd.to_datetime(df_sis.index)\n",
    "df_mag.index = pd.to_datetime(df_mag.index)\n",
    "df_swics.index = pd.to_datetime(df_swics.index)\n",
    "\n",
    "# Now do the join\n",
    "df_combined = (\n",
    "    df_sis[[\"sep_event\"]]\n",
    "    .join(df_mag[[\"mag_event\"]], how=\"outer\")\n",
    "    .join(df_swics[[\"shock_event\"]], how=\"outer\")\n",
    "    .fillna(False)\n",
    ")"
   ]
  },
  {
   "cell_type": "code",
   "execution_count": 22,
   "id": "5f0dc16f",
   "metadata": {},
   "outputs": [
    {
     "data": {
      "text/plain": [
       "sep_event  mag_event  shock_event\n",
       "False      False      False          2933\n",
       "                      True             63\n",
       "True       False      False             4\n",
       "Name: count, dtype: int64"
      ]
     },
     "execution_count": 22,
     "metadata": {},
     "output_type": "execute_result"
    }
   ],
   "source": [
    "df_combined.value_counts()"
   ]
  },
  {
   "cell_type": "code",
   "execution_count": 23,
   "id": "50c6d781",
   "metadata": {},
   "outputs": [
    {
     "data": {
      "text/html": [
       "<div>\n",
       "<style scoped>\n",
       "    .dataframe tbody tr th:only-of-type {\n",
       "        vertical-align: middle;\n",
       "    }\n",
       "\n",
       "    .dataframe tbody tr th {\n",
       "        vertical-align: top;\n",
       "    }\n",
       "\n",
       "    .dataframe thead th {\n",
       "        text-align: right;\n",
       "    }\n",
       "</style>\n",
       "<table border=\"1\" class=\"dataframe\">\n",
       "  <thead>\n",
       "    <tr style=\"text-align: right;\">\n",
       "      <th></th>\n",
       "      <th>YR</th>\n",
       "      <th>MO</th>\n",
       "      <th>DA</th>\n",
       "      <th>HHMM</th>\n",
       "      <th>Julian_Day</th>\n",
       "      <th>Seconds_of_Day</th>\n",
       "      <th>S_10MeV</th>\n",
       "      <th>Proton_&gt;10MeV</th>\n",
       "      <th>S_30MeV</th>\n",
       "      <th>Proton_&gt;30MeV</th>\n",
       "      <th>year</th>\n",
       "      <th>file</th>\n",
       "      <th>sep_event</th>\n",
       "    </tr>\n",
       "  </thead>\n",
       "  <tbody>\n",
       "    <tr>\n",
       "      <th>1970-01-01 00:00:00.000000000</th>\n",
       "      <td>2001.0</td>\n",
       "      <td>8.0</td>\n",
       "      <td>7.0</td>\n",
       "      <td>0.0</td>\n",
       "      <td>52128.0</td>\n",
       "      <td>0.0</td>\n",
       "      <td>0.0</td>\n",
       "      <td>0.797</td>\n",
       "      <td>0.0</td>\n",
       "      <td>0.557</td>\n",
       "      <td>2001</td>\n",
       "      <td>20010807_ace_sis_5m.txt</td>\n",
       "      <td>False</td>\n",
       "    </tr>\n",
       "    <tr>\n",
       "      <th>1970-01-01 00:00:00.000000001</th>\n",
       "      <td>2001.0</td>\n",
       "      <td>8.0</td>\n",
       "      <td>7.0</td>\n",
       "      <td>5.0</td>\n",
       "      <td>52128.0</td>\n",
       "      <td>300.0</td>\n",
       "      <td>0.0</td>\n",
       "      <td>0.800</td>\n",
       "      <td>0.0</td>\n",
       "      <td>0.567</td>\n",
       "      <td>2001</td>\n",
       "      <td>20010807_ace_sis_5m.txt</td>\n",
       "      <td>False</td>\n",
       "    </tr>\n",
       "    <tr>\n",
       "      <th>1970-01-01 00:00:00.000000002</th>\n",
       "      <td>2001.0</td>\n",
       "      <td>8.0</td>\n",
       "      <td>7.0</td>\n",
       "      <td>10.0</td>\n",
       "      <td>52128.0</td>\n",
       "      <td>600.0</td>\n",
       "      <td>0.0</td>\n",
       "      <td>0.796</td>\n",
       "      <td>0.0</td>\n",
       "      <td>0.564</td>\n",
       "      <td>2001</td>\n",
       "      <td>20010807_ace_sis_5m.txt</td>\n",
       "      <td>False</td>\n",
       "    </tr>\n",
       "    <tr>\n",
       "      <th>1970-01-01 00:00:00.000000003</th>\n",
       "      <td>2001.0</td>\n",
       "      <td>8.0</td>\n",
       "      <td>7.0</td>\n",
       "      <td>15.0</td>\n",
       "      <td>52128.0</td>\n",
       "      <td>900.0</td>\n",
       "      <td>0.0</td>\n",
       "      <td>0.803</td>\n",
       "      <td>0.0</td>\n",
       "      <td>0.563</td>\n",
       "      <td>2001</td>\n",
       "      <td>20010807_ace_sis_5m.txt</td>\n",
       "      <td>False</td>\n",
       "    </tr>\n",
       "    <tr>\n",
       "      <th>1970-01-01 00:00:00.000000004</th>\n",
       "      <td>2001.0</td>\n",
       "      <td>8.0</td>\n",
       "      <td>7.0</td>\n",
       "      <td>20.0</td>\n",
       "      <td>52128.0</td>\n",
       "      <td>1200.0</td>\n",
       "      <td>0.0</td>\n",
       "      <td>0.831</td>\n",
       "      <td>0.0</td>\n",
       "      <td>0.587</td>\n",
       "      <td>2001</td>\n",
       "      <td>20010807_ace_sis_5m.txt</td>\n",
       "      <td>False</td>\n",
       "    </tr>\n",
       "    <tr>\n",
       "      <th>...</th>\n",
       "      <td>...</td>\n",
       "      <td>...</td>\n",
       "      <td>...</td>\n",
       "      <td>...</td>\n",
       "      <td>...</td>\n",
       "      <td>...</td>\n",
       "      <td>...</td>\n",
       "      <td>...</td>\n",
       "      <td>...</td>\n",
       "      <td>...</td>\n",
       "      <td>...</td>\n",
       "      <td>...</td>\n",
       "      <td>...</td>\n",
       "    </tr>\n",
       "    <tr>\n",
       "      <th>1970-01-01 00:00:00.000000995</th>\n",
       "      <td>2001.0</td>\n",
       "      <td>8.0</td>\n",
       "      <td>10.0</td>\n",
       "      <td>1055.0</td>\n",
       "      <td>52131.0</td>\n",
       "      <td>39300.0</td>\n",
       "      <td>0.0</td>\n",
       "      <td>25.600</td>\n",
       "      <td>0.0</td>\n",
       "      <td>1.160</td>\n",
       "      <td>2001</td>\n",
       "      <td>20010810_ace_sis_5m.txt</td>\n",
       "      <td>False</td>\n",
       "    </tr>\n",
       "    <tr>\n",
       "      <th>1970-01-01 00:00:00.000000996</th>\n",
       "      <td>2001.0</td>\n",
       "      <td>8.0</td>\n",
       "      <td>10.0</td>\n",
       "      <td>1100.0</td>\n",
       "      <td>52131.0</td>\n",
       "      <td>39600.0</td>\n",
       "      <td>0.0</td>\n",
       "      <td>28.200</td>\n",
       "      <td>0.0</td>\n",
       "      <td>1.290</td>\n",
       "      <td>2001</td>\n",
       "      <td>20010810_ace_sis_5m.txt</td>\n",
       "      <td>False</td>\n",
       "    </tr>\n",
       "    <tr>\n",
       "      <th>1970-01-01 00:00:00.000000997</th>\n",
       "      <td>2001.0</td>\n",
       "      <td>8.0</td>\n",
       "      <td>10.0</td>\n",
       "      <td>1105.0</td>\n",
       "      <td>52131.0</td>\n",
       "      <td>39900.0</td>\n",
       "      <td>0.0</td>\n",
       "      <td>28.200</td>\n",
       "      <td>0.0</td>\n",
       "      <td>1.180</td>\n",
       "      <td>2001</td>\n",
       "      <td>20010810_ace_sis_5m.txt</td>\n",
       "      <td>False</td>\n",
       "    </tr>\n",
       "    <tr>\n",
       "      <th>1970-01-01 00:00:00.000000998</th>\n",
       "      <td>2001.0</td>\n",
       "      <td>8.0</td>\n",
       "      <td>10.0</td>\n",
       "      <td>1110.0</td>\n",
       "      <td>52131.0</td>\n",
       "      <td>40200.0</td>\n",
       "      <td>0.0</td>\n",
       "      <td>24.000</td>\n",
       "      <td>0.0</td>\n",
       "      <td>0.938</td>\n",
       "      <td>2001</td>\n",
       "      <td>20010810_ace_sis_5m.txt</td>\n",
       "      <td>False</td>\n",
       "    </tr>\n",
       "    <tr>\n",
       "      <th>1970-01-01 00:00:00.000000999</th>\n",
       "      <td>2001.0</td>\n",
       "      <td>8.0</td>\n",
       "      <td>10.0</td>\n",
       "      <td>1115.0</td>\n",
       "      <td>52131.0</td>\n",
       "      <td>40500.0</td>\n",
       "      <td>0.0</td>\n",
       "      <td>20.100</td>\n",
       "      <td>0.0</td>\n",
       "      <td>1.050</td>\n",
       "      <td>2001</td>\n",
       "      <td>20010810_ace_sis_5m.txt</td>\n",
       "      <td>False</td>\n",
       "    </tr>\n",
       "  </tbody>\n",
       "</table>\n",
       "<p>1000 rows × 13 columns</p>\n",
       "</div>"
      ],
      "text/plain": [
       "                                   YR   MO    DA    HHMM  Julian_Day  \\\n",
       "1970-01-01 00:00:00.000000000  2001.0  8.0   7.0     0.0     52128.0   \n",
       "1970-01-01 00:00:00.000000001  2001.0  8.0   7.0     5.0     52128.0   \n",
       "1970-01-01 00:00:00.000000002  2001.0  8.0   7.0    10.0     52128.0   \n",
       "1970-01-01 00:00:00.000000003  2001.0  8.0   7.0    15.0     52128.0   \n",
       "1970-01-01 00:00:00.000000004  2001.0  8.0   7.0    20.0     52128.0   \n",
       "...                               ...  ...   ...     ...         ...   \n",
       "1970-01-01 00:00:00.000000995  2001.0  8.0  10.0  1055.0     52131.0   \n",
       "1970-01-01 00:00:00.000000996  2001.0  8.0  10.0  1100.0     52131.0   \n",
       "1970-01-01 00:00:00.000000997  2001.0  8.0  10.0  1105.0     52131.0   \n",
       "1970-01-01 00:00:00.000000998  2001.0  8.0  10.0  1110.0     52131.0   \n",
       "1970-01-01 00:00:00.000000999  2001.0  8.0  10.0  1115.0     52131.0   \n",
       "\n",
       "                               Seconds_of_Day  S_10MeV  Proton_>10MeV  \\\n",
       "1970-01-01 00:00:00.000000000             0.0      0.0          0.797   \n",
       "1970-01-01 00:00:00.000000001           300.0      0.0          0.800   \n",
       "1970-01-01 00:00:00.000000002           600.0      0.0          0.796   \n",
       "1970-01-01 00:00:00.000000003           900.0      0.0          0.803   \n",
       "1970-01-01 00:00:00.000000004          1200.0      0.0          0.831   \n",
       "...                                       ...      ...            ...   \n",
       "1970-01-01 00:00:00.000000995         39300.0      0.0         25.600   \n",
       "1970-01-01 00:00:00.000000996         39600.0      0.0         28.200   \n",
       "1970-01-01 00:00:00.000000997         39900.0      0.0         28.200   \n",
       "1970-01-01 00:00:00.000000998         40200.0      0.0         24.000   \n",
       "1970-01-01 00:00:00.000000999         40500.0      0.0         20.100   \n",
       "\n",
       "                               S_30MeV  Proton_>30MeV  year  \\\n",
       "1970-01-01 00:00:00.000000000      0.0          0.557  2001   \n",
       "1970-01-01 00:00:00.000000001      0.0          0.567  2001   \n",
       "1970-01-01 00:00:00.000000002      0.0          0.564  2001   \n",
       "1970-01-01 00:00:00.000000003      0.0          0.563  2001   \n",
       "1970-01-01 00:00:00.000000004      0.0          0.587  2001   \n",
       "...                                ...            ...   ...   \n",
       "1970-01-01 00:00:00.000000995      0.0          1.160  2001   \n",
       "1970-01-01 00:00:00.000000996      0.0          1.290  2001   \n",
       "1970-01-01 00:00:00.000000997      0.0          1.180  2001   \n",
       "1970-01-01 00:00:00.000000998      0.0          0.938  2001   \n",
       "1970-01-01 00:00:00.000000999      0.0          1.050  2001   \n",
       "\n",
       "                                                  file  sep_event  \n",
       "1970-01-01 00:00:00.000000000  20010807_ace_sis_5m.txt      False  \n",
       "1970-01-01 00:00:00.000000001  20010807_ace_sis_5m.txt      False  \n",
       "1970-01-01 00:00:00.000000002  20010807_ace_sis_5m.txt      False  \n",
       "1970-01-01 00:00:00.000000003  20010807_ace_sis_5m.txt      False  \n",
       "1970-01-01 00:00:00.000000004  20010807_ace_sis_5m.txt      False  \n",
       "...                                                ...        ...  \n",
       "1970-01-01 00:00:00.000000995  20010810_ace_sis_5m.txt      False  \n",
       "1970-01-01 00:00:00.000000996  20010810_ace_sis_5m.txt      False  \n",
       "1970-01-01 00:00:00.000000997  20010810_ace_sis_5m.txt      False  \n",
       "1970-01-01 00:00:00.000000998  20010810_ace_sis_5m.txt      False  \n",
       "1970-01-01 00:00:00.000000999  20010810_ace_sis_5m.txt      False  \n",
       "\n",
       "[1000 rows x 13 columns]"
      ]
     },
     "execution_count": 23,
     "metadata": {},
     "output_type": "execute_result"
    }
   ],
   "source": [
    "df_sis"
   ]
  },
  {
   "cell_type": "code",
   "execution_count": 24,
   "id": "d3133bb3",
   "metadata": {},
   "outputs": [
    {
     "ename": "KeyError",
     "evalue": "\"None of ['timestamp'] are in the columns\"",
     "output_type": "error",
     "traceback": [
      "\u001b[31m---------------------------------------------------------------------------\u001b[39m",
      "\u001b[31mKeyError\u001b[39m                                  Traceback (most recent call last)",
      "\u001b[32m~\\AppData\\Local\\Temp\\ipykernel_1840\\1223342125.py\u001b[39m in \u001b[36m?\u001b[39m\u001b[34m()\u001b[39m\n\u001b[32m----> \u001b[39m\u001b[32m1\u001b[39m df_sis.set_index(\u001b[33m\"timestamp\"\u001b[39m, inplace=\u001b[38;5;28;01mTrue\u001b[39;00m)\n\u001b[32m      2\u001b[39m df_mag.set_index(\u001b[33m\"timestamp\"\u001b[39m, inplace=\u001b[38;5;28;01mTrue\u001b[39;00m)\n\u001b[32m      3\u001b[39m df_swics.set_index(\u001b[33m\"timestamp\"\u001b[39m, inplace=\u001b[38;5;28;01mTrue\u001b[39;00m)\n",
      "\u001b[32mc:\\Users\\harsh\\AppData\\Local\\Programs\\Python\\Python311\\Lib\\site-packages\\pandas\\core\\frame.py\u001b[39m in \u001b[36m?\u001b[39m\u001b[34m(self, keys, drop, append, inplace, verify_integrity)\u001b[39m\n\u001b[32m   5866\u001b[39m                     \u001b[38;5;28;01mif\u001b[39;00m \u001b[38;5;28;01mnot\u001b[39;00m found:\n\u001b[32m   5867\u001b[39m                         missing.append(col)\n\u001b[32m   5868\u001b[39m \n\u001b[32m   5869\u001b[39m         \u001b[38;5;28;01mif\u001b[39;00m missing:\n\u001b[32m-> \u001b[39m\u001b[32m5870\u001b[39m             \u001b[38;5;28;01mraise\u001b[39;00m KeyError(\u001b[33mf\"None of {missing} are in the columns\"\u001b[39m)\n\u001b[32m   5871\u001b[39m \n\u001b[32m   5872\u001b[39m         \u001b[38;5;28;01mif\u001b[39;00m inplace:\n\u001b[32m   5873\u001b[39m             frame = self\n",
      "\u001b[31mKeyError\u001b[39m: \"None of ['timestamp'] are in the columns\""
     ]
    }
   ],
   "source": [
    "df_sis.set_index(\"timestamp\", inplace=True)\n",
    "df_mag.set_index(\"timestamp\", inplace=True)\n",
    "df_swics.set_index(\"timestamp\", inplace=True)"
   ]
  },
  {
   "cell_type": "code",
   "execution_count": 25,
   "id": "f396e3f5",
   "metadata": {},
   "outputs": [],
   "source": [
    "df_combined = df_sis[[\"sep_event\"]].join(df_mag[[\"mag_event\"]], how=\"outer\").join(df_swics[[\"shock_event\"]], how=\"outer\").fillna(False)\n",
    "\n",
    "# Final CME condition\n",
    "df_combined[\"cme_detected\"] = (\n",
    "    df_combined[\"sep_event\"] & df_combined[\"mag_event\"] & df_combined[\"shock_event\"]\n",
    ")\n"
   ]
  },
  {
   "cell_type": "code",
   "execution_count": 27,
   "id": "e8db2fbe",
   "metadata": {},
   "outputs": [],
   "source": [
    "df_combined[\"event_group\"] = (df_combined[\"cme_detected\"] != df_combined[\"cme_detected\"].shift()).cumsum()\n",
    "cme_events = df_combined[df_combined[\"cme_detected\"]].groupby(\"event_group\").agg({\"cme_detected\": [\"count\", \"idxmin\", \"idxmax\"]})\n",
    "cme_events.columns = [\"duration\", \"start_time\", \"end_time\"]\n"
   ]
  },
  {
   "cell_type": "code",
   "execution_count": 28,
   "id": "dd7e6d09",
   "metadata": {},
   "outputs": [
    {
     "name": "stdout",
     "output_type": "stream",
     "text": [
      "Detected CME Events:\n",
      "Empty DataFrame\n",
      "Columns: [start_time, end_time, duration]\n",
      "Index: []\n"
     ]
    }
   ],
   "source": [
    "print(\"Detected CME Events:\")\n",
    "print(cme_events[[\"start_time\", \"end_time\", \"duration\"]])\n"
   ]
  },
  {
   "cell_type": "code",
   "execution_count": 29,
   "id": "4a8110db",
   "metadata": {},
   "outputs": [
    {
     "data": {
      "text/html": [
       "<div>\n",
       "<style scoped>\n",
       "    .dataframe tbody tr th:only-of-type {\n",
       "        vertical-align: middle;\n",
       "    }\n",
       "\n",
       "    .dataframe tbody tr th {\n",
       "        vertical-align: top;\n",
       "    }\n",
       "\n",
       "    .dataframe thead th {\n",
       "        text-align: right;\n",
       "    }\n",
       "</style>\n",
       "<table border=\"1\" class=\"dataframe\">\n",
       "  <thead>\n",
       "    <tr style=\"text-align: right;\">\n",
       "      <th></th>\n",
       "      <th>duration</th>\n",
       "      <th>start_time</th>\n",
       "      <th>end_time</th>\n",
       "    </tr>\n",
       "    <tr>\n",
       "      <th>event_group</th>\n",
       "      <th></th>\n",
       "      <th></th>\n",
       "      <th></th>\n",
       "    </tr>\n",
       "  </thead>\n",
       "  <tbody>\n",
       "  </tbody>\n",
       "</table>\n",
       "</div>"
      ],
      "text/plain": [
       "Empty DataFrame\n",
       "Columns: [duration, start_time, end_time]\n",
       "Index: []"
      ]
     },
     "execution_count": 29,
     "metadata": {},
     "output_type": "execute_result"
    }
   ],
   "source": [
    "cme_events"
   ]
  },
  {
   "cell_type": "code",
   "execution_count": null,
   "id": "271264d0",
   "metadata": {},
   "outputs": [
    {
     "ename": "NameError",
     "evalue": "name 'CMEDetectionSystem' is not defined",
     "output_type": "error",
     "traceback": [
      "\u001b[31m---------------------------------------------------------------------------\u001b[39m",
      "\u001b[31mNameError\u001b[39m                                 Traceback (most recent call last)",
      "\u001b[36mCell\u001b[39m\u001b[36m \u001b[39m\u001b[32mIn[2]\u001b[39m\u001b[32m, line 3\u001b[39m\n\u001b[32m      1\u001b[39m \u001b[38;5;28;01mfrom\u001b[39;00m\u001b[38;5;250m \u001b[39m\u001b[34;01msrc\u001b[39;00m\u001b[34;01m.\u001b[39;00m\u001b[34;01mthreshold_optimization\u001b[39;00m\u001b[38;5;250m \u001b[39m\u001b[38;5;28;01mimport\u001b[39;00m *\n\u001b[32m----> \u001b[39m\u001b[32m3\u001b[39m cme_files = \u001b[43mCMEDetectionSystem\u001b[49m(\u001b[33m'\u001b[39m\u001b[33mcsv_file\u001b[39m\u001b[33m'\u001b[39m)\n",
      "\u001b[31mNameError\u001b[39m: name 'CMEDetectionSystem' is not defined"
     ]
    }
   ],
   "source": [
    "from src.threshold_optimization import *\n",
    "from src.cme_detection_system import CMEDetectionSystem\n",
    "\n",
    "cme_files = CMEDetectionSystem('csv_file')"
   ]
  },
  {
   "cell_type": "code",
   "execution_count": null,
   "id": "6a243679",
   "metadata": {},
   "outputs": [],
   "source": []
  }
 ],
 "metadata": {
  "kernelspec": {
   "display_name": "Python 3",
   "language": "python",
   "name": "python3"
  },
  "language_info": {
   "codemirror_mode": {
    "name": "ipython",
    "version": 3
   },
   "file_extension": ".py",
   "mimetype": "text/x-python",
   "name": "python",
   "nbconvert_exporter": "python",
   "pygments_lexer": "ipython3",
   "version": "3.11.9"
  }
 },
 "nbformat": 4,
 "nbformat_minor": 5
}
